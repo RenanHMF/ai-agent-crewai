{
 "cells": [
  {
   "cell_type": "code",
   "execution_count": null,
   "metadata": {},
   "outputs": [],
   "source": [
    "# INSTALACOES #\n",
    "\n",
    "# !pip install --upgrade pip\n",
    "%pip install yfinance\n",
    "%pip install crewai\n",
    "%pip install \"crewai[tools]\"\n",
    "%pip install langchain\n",
    "%pip install langchain-openai\n",
    "%pip install langchain-community\n",
    "%pip install duckduckgo\n",
    "%pip install -U duckduckgo-search"
   ]
  },
  {
   "cell_type": "code",
   "execution_count": null,
   "metadata": {},
   "outputs": [],
   "source": [
    "# IMPORTACOES #\n",
    "import json\n",
    "import os\n",
    "from datetime import datetime\n",
    "\n",
    "import yfinance as yf\n",
    "\n",
    "from crewai import Agent, Task, Crew, Process\n",
    "\n",
    "from langchain.tools import Tool\n",
    "from langchain_openai import ChatOpenAI\n",
    "from langchain_community.tools import DuckDuckGoSearchResults\n",
    "\n",
    "from IPython.display import Markdown\n"
   ]
  },
  {
   "cell_type": "code",
   "execution_count": null,
   "metadata": {},
   "outputs": [],
   "source": [
    "# Exemplo bobo\n",
    "#yf.download(ticket,start,end)\n",
    "#stock = yf.download('AAPL', start='2023-08-08', end='2024-08-08')\n",
    "\n",
    "# funcao\n",
    "def fetch_stock_price(ticket):\n",
    "    stock = yf.download(ticket, start='2023-08-08', end='2024-08-08')\n",
    "    return stock\n",
    "\n",
    "# Criando Yahoo Fincance Tool\n",
    "yahoo_finance_tool = Tool(\n",
    "    name = \"Yahoo Finance Tool\",\n",
    "    description = \"Fetch stocks prices for {ticket} from the last year about a specific company from Yahoo Finance API\",\n",
    "    func= lambda ticket: fetch_stock_price(ticket)\n",
    ")\n"
   ]
  },
  {
   "cell_type": "code",
   "execution_count": null,
   "metadata": {},
   "outputs": [],
   "source": [
    "# Testando tool\n",
    "response = yahoo_finance_tool('AAPL')\n",
    "print(response)"
   ]
  },
  {
   "cell_type": "code",
   "execution_count": null,
   "metadata": {},
   "outputs": [],
   "source": [
    "# Importando OpenAI LLM - GPT\n",
    "os.environ['OPENAI_API_KEY'] = ''\n",
    "llm = ChatOpenAI(model='gpt-3.5-turbo')"
   ]
  },
  {
   "cell_type": "code",
   "execution_count": null,
   "metadata": {},
   "outputs": [],
   "source": [
    "stockPriceAnalyst = Agent (\n",
    "    role = 'Senior Stock Analyst',\n",
    "    goal = 'Find the {ticket} stock price and analyses trends',\n",
    "    backstory = 'You are a highly experienced in analyzing the price of an specific stock and make predictions about its future price.',\n",
    "    verbose = True,\n",
    "    llm = llm,\n",
    "    max_iter = 5,\n",
    "    memory = True,\n",
    "    tools = [yahoo_finance_tool],\n",
    "    allow_delegation = False\n",
    ")"
   ]
  },
  {
   "cell_type": "code",
   "execution_count": null,
   "metadata": {},
   "outputs": [],
   "source": [
    "getStockPrice = Task(\n",
    "    description = 'Analyze the stock {ticket} price history and create a trend analyses of up, down or sideways',\n",
    "    expected_output = \"Specify the current trend stock price - up, down or sideaways, eg. stock='APPL, price UP'\",\n",
    "    agent = stockPriceAnalyst\n",
    ")"
   ]
  },
  {
   "cell_type": "code",
   "execution_count": null,
   "metadata": {},
   "outputs": [],
   "source": [
    "# IMPORTANDO A TOOL DE PESQUISA\n",
    "search_tool = DuckDuckGoSearchResults(backend='news', num_results=10)"
   ]
  },
  {
   "cell_type": "code",
   "execution_count": null,
   "metadata": {},
   "outputs": [],
   "source": [
    "newsAnalyst = Agent (\n",
    "    role = 'Stock News Analyst',\n",
    "    goal = \"\"\"Create a short summary of the market news related to the stock {ticket} company. Specify the current trend - up, down or sideways with the news context.\n",
    "              For each request stock asset, specify a number between 0 and 100, where 0 is extreme fear and 100 is extrene greeed.\"\"\",\n",
    "    backstory = \"\"\"You are a highly experienced in analyzing the market news and have tracked assets for more than 10 years.\n",
    "                   You are also master level analyts in the traditional markets and have deep understanding of human psychology.\n",
    "                   You understand news, theirs tittles and informations, but you look at those with a health dose of skepticism.\n",
    "                   You consider also the source of the news articles.\"\"\",\n",
    "    verbose = True,\n",
    "    llm = llm,\n",
    "    max_iter = 5,\n",
    "    memory = True,\n",
    "    tools = [search_tool],\n",
    "    allow_delegation = False\n",
    ")"
   ]
  },
  {
   "cell_type": "code",
   "execution_count": null,
   "metadata": {},
   "outputs": [],
   "source": [
    "getNews = Task(\n",
    "    description = f\"\"\"Take the stock and always include BTC to it (if not request).\n",
    "                      Use the search tool to search each one individualy.\n",
    "                      The current date is {datetime.now()}\n",
    "                      Compose the results into a helpfull report.\"\"\",\n",
    "    expected_output = \"\"\"A summary of the overall market and one sentece summary for each request asset.\n",
    "                         Include a fear/greed score for each asset based on the news. Use format\n",
    "                         <STOCK ASSET>\n",
    "                         <SUMMARY BASED ON THE NEWS>\n",
    "                         <TREND PREDICTION>\n",
    "                         <FEAR/GREED SCORE>\"\"\",\n",
    "    agent = newsAnalyst\n",
    ")"
   ]
  },
  {
   "cell_type": "code",
   "execution_count": null,
   "metadata": {},
   "outputs": [],
   "source": [
    "stockAnalystWrite = Agent(\n",
    "    role = 'Senior Stock Analyst Writter',\n",
    "    goal = 'Analyze the trend price and news and write insightfull compelling and informative 3 paragraph long newsletter based on the stock report and price trend.',\n",
    "    backstory = \"\"\"You are widely accepted as the best stock analyst in the market.\n",
    "                   You understand complex concepts and create compelling stories and narratives that resonate with wider audiences.\n",
    "                   You understand macro factors and combine multiple theories. eg. cycle theory and fundamental analyses.\n",
    "                   You are able to hold multiple opinions when analyzing anything\"\"\",\n",
    "    verbose = True,\n",
    "    llm = llm,\n",
    "    max_iter = 5,\n",
    "    memory = True,\n",
    "    allow_delegation = True\n",
    ")"
   ]
  },
  {
   "cell_type": "code",
   "execution_count": null,
   "metadata": {},
   "outputs": [],
   "source": [
    "writeAnalyses = Task(\n",
    "    description = \"\"\"Use the stock price trend and the stock news report to create an analyses and write the newsletter about the {ticket} company\n",
    "                     that is brief and highlights the most important points.\n",
    "                     Focus on the stock price trend, news and fear/greed score. What are the near future considerations?\n",
    "                     Include the previous analyses of stock trend and news summary.\"\"\",\n",
    "    expected_output = \"\"\"An elouquent 3 paragraphs newsletter formated as markdown in an easy readable manner. It should contains:\n",
    "                         - 3 bullet executive summary\n",
    "                         - Introduction - set the overall picture and spike up the interest\n",
    "                         - Main part provides the meat of the analysis including the news summary and fear/greed scores\n",
    "                         - Summary - key facts and concrete future trend prediction - up, down or sideways\"\"\",\n",
    "    agent = stockAnalystWrite,\n",
    "    context = [getStockPrice, getNews]\n",
    ")"
   ]
  },
  {
   "cell_type": "code",
   "execution_count": null,
   "metadata": {},
   "outputs": [],
   "source": [
    "crew = Crew(\n",
    "    agents = [stockPriceAnalyst, newsAnalyst, stockAnalystWrite],\n",
    "    tasks = [getStockPrice, getNews, writeAnalyses],\n",
    "    verbose = True, #verbose = 2,\n",
    "    process = Process.hierarchical,\n",
    "    full_output = True,\n",
    "    share_crew = False,\n",
    "    manager_llm = llm,\n",
    "    max_iter = 15\n",
    ")"
   ]
  },
  {
   "cell_type": "code",
   "execution_count": null,
   "metadata": {},
   "outputs": [],
   "source": [
    "results = crew.kickoff(inputs={'ticket':'AAPL'})"
   ]
  },
  {
   "cell_type": "code",
   "execution_count": null,
   "metadata": {},
   "outputs": [],
   "source": [
    "list(results.keys())"
   ]
  },
  {
   "cell_type": "code",
   "execution_count": null,
   "metadata": {},
   "outputs": [],
   "source": [
    "results['final_output']"
   ]
  },
  {
   "cell_type": "code",
   "execution_count": null,
   "metadata": {},
   "outputs": [],
   "source": [
    "Markdown(results['final_output'])"
   ]
  }
 ],
 "metadata": {
  "kernelspec": {
   "display_name": "Python 3",
   "language": "python",
   "name": "python3"
  },
  "language_info": {
   "codemirror_mode": {
    "name": "ipython",
    "version": 3
   },
   "file_extension": ".py",
   "mimetype": "text/x-python",
   "name": "python",
   "nbconvert_exporter": "python",
   "pygments_lexer": "ipython3",
   "version": "3.11.5"
  }
 },
 "nbformat": 4,
 "nbformat_minor": 2
}
